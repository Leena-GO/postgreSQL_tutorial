{
 "cells": [
  {
   "cell_type": "markdown",
   "metadata": {},
   "source": [
    "## 외래키 테이블\n",
    "\n",
    "- 외래키 테이블 작성 요령\n",
    "\n",
    "```SQL\n",
    "DROP TABLE IF EXISTS teacher;\n",
    "DROP TABLE IF EXISTS subject;\n",
    "\n",
    "CREATE TABLE subject (\n",
    "\tsub_id   NUMERIC(4) NOT NULL PRIMARY KEY, \n",
    "\tsub_name VARCHAR(60) NOT NULL\n",
    "); \n",
    "\n",
    "INSERT INTO subject VALUES \n",
    "(0001, 'Mathematics'), \n",
    "(0002, 'History'), \n",
    "(0003, 'IT');\n",
    "\n",
    "CREATE TABLE teacher (\n",
    "\tteac_id    NUMERIC(4) NOT NULL PRIMARY KEY, \n",
    "\tteac_name  VARCHAR(20) NOT NULL, \n",
    "\tsub_id     NUMERIC(5) REFERENCES subject, \n",
    "\thired_date DATE\n",
    "); \n",
    "\n",
    "INSERT INTO teacher values (0011, '정선생', 0001, '2017-03-11'); -- 성공\n",
    "INSERT INTO teacher values (0021, '박선생', 0004, '2017-05-20'); -- 실패\n",
    "---\n",
    "\n",
    "알림:  \"teacher\" 테이블 없음, 무시함\n",
    "알림:  \"subject\" 테이블 없음, 무시함\n",
    "\n",
    "ERROR: 오류:  \"teacher\" 테이블에서 자료 추가, 갱신 작업이 \"teacher_sub_id_fkey\" 참조키(foreign key) 제약 조건을 위배했습니다\n",
    "DETAIL:  (sub_id)=(4) 키가 \"subject\" 테이블에 없습니다.\n",
    "\n",
    "\n",
    "SQL state: 23503\n",
    "```"
   ]
  },
  {
   "cell_type": "code",
   "execution_count": null,
   "metadata": {},
   "outputs": [],
   "source": []
  }
 ],
 "metadata": {
  "kernelspec": {
   "display_name": "Python 3",
   "language": "python",
   "name": "python3"
  },
  "language_info": {
   "codemirror_mode": {
    "name": "ipython",
    "version": 3
   },
   "file_extension": ".py",
   "mimetype": "text/x-python",
   "name": "python",
   "nbconvert_exporter": "python",
   "pygments_lexer": "ipython3",
   "version": "3.8.5"
  }
 },
 "nbformat": 4,
 "nbformat_minor": 4
}
