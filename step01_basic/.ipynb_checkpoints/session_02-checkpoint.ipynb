{
 "cells": [
  {
   "cell_type": "markdown",
   "metadata": {},
   "source": [
    "## pgAdmin 설치 (MacOS)\n",
    "- GUI 프로그램을 설치해본다. \n",
    "- Windows는 자동으로 설치가 되기 때문에 생략을 한다. \n",
    "- 먼저 해당 싸이트에 접속을 합니다. \n",
    "    + URL: https://www.pgadmin.org/download/\n",
    "    \n",
    "![](../img/pgAdmin4/install_01.png)\n",
    "\n",
    "- macOS를 클릭한 뒤 다음 화면에서 `pgAdmin 4 v5.3` 최신버전을 다운로드 받도록 합니다. \n",
    "\n",
    "![](../img/pgAdmin4/install_02.png)\n",
    "\n",
    "- 프로그램을 설치하면 첫 화면에 다음과 같은 화면이 나타나게 될 것입니다. \n",
    "\n",
    "![](../img/pgAdmin4/install_03.png)"
   ]
  }
 ],
 "metadata": {
  "kernelspec": {
   "display_name": "Python 3",
   "language": "python",
   "name": "python3"
  },
  "language_info": {
   "codemirror_mode": {
    "name": "ipython",
    "version": 3
   },
   "file_extension": ".py",
   "mimetype": "text/x-python",
   "name": "python",
   "nbconvert_exporter": "python",
   "pygments_lexer": "ipython3",
   "version": "3.8.7"
  }
 },
 "nbformat": 4,
 "nbformat_minor": 4
}
