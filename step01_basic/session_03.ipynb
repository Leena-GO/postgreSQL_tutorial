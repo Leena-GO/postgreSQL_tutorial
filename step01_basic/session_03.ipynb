{
 "cells": [
  {
   "cell_type": "markdown",
   "metadata": {},
   "source": [
    "## 논리, 비교 연산자와 조건문 함수\n"
   ]
  },
  {
   "cell_type": "markdown",
   "metadata": {},
   "source": [
    "## 테이블 조회 \n",
    "- 일단 먼저 잘 조회가 되는지 확인 하도록 합니다. \n",
    "\n",
    "```SQL\n",
    "SELECT * FROM developers;\n",
    "```\n",
    "\n",
    "![](../img/table/table_02.png)\n",
    "\n"
   ]
  },
  {
   "cell_type": "markdown",
   "metadata": {},
   "source": [
    "## 테이블에 자료 여러 개 추가\n",
    "- 컬럼의 순서를 지정 후, 아래와 같이 데이터를 입력하도록 합니다. \n",
    "```SQL\n",
    "INSERT INTO developers (book_id, date, name) VALUES\n",
    "(4, '2019-12-18', '맛있는 MongoDB'), \n",
    "(5, '2019-12-18', 'Python'), \n",
    "(6, '2019-12-18', 'R'),\n",
    "(7, '2019-12-19', 'Ruby'), \n",
    "(8, '2019-12-19', 'Go''s Programming'), \n",
    "(9, '2019-12-19', 'Statistics');\n",
    "```\n",
    "\n",
    "```\n",
    "INSERT 0 6\n",
    "\n",
    "Query returned successfully in 38 msec.\n",
    "```\n",
    "\n"
   ]
  },
  {
   "cell_type": "markdown",
   "metadata": {},
   "source": [
    "## psql을 활용한 테이블 생성 및 조회\n",
    "- .sql 파일을 하나 생성합니다. (파일명은 developers.sql)로 지정하였습니다. \n",
    "\n",
    "```SQL\n",
    "CREATE TABLE public.developers\n",
    "(\n",
    "    book_id integer,\n",
    "    date date,\n",
    "    name character varying(80) COLLATE pg_catalog.\"default\"\n",
    ")\n",
    "\n",
    "TABLESPACE pg_default;\n",
    "\n",
    "ALTER TABLE public.developers\n",
    "    OWNER to postgres;\n",
    "\n",
    "INSERT INTO developers VALUES(1, '2019-12-17', '\"자바\"');\n",
    "INSERT INTO developers VALUES(2, '2019-12-17', '''자바''');\n",
    "INSERT INTO developers VALUES(3, '2019-12-17', 'Python''s Programming');\n",
    "\n",
    "INSERT INTO developers (book_id, date, name) VALUES\n",
    "(4, '2019-12-18', '맛있는 MongoDB'),\n",
    "(5, '2019-12-18', 'Python'),\n",
    "(6, '2019-12-18', 'R'),\n",
    "(7, '2019-12-19', 'Ruby'),\n",
    "(8, '2019-12-19', 'Go''s Programming'),\n",
    "(9, '2019-12-19', 'Statistics');\n",
    "```\n",
    "\n",
    "- psql 콘솔창에 접속을 합니다. \n",
    "```bash \n",
    "$ psql -U postgres\n",
    "postgres=# \\! pwd\n",
    "your/current/path\n",
    "```\n",
    "\n",
    "- 이제, sql를 실행합니다. \n",
    "```sql\n",
    "postgres=# \\i step01_basic/developers.sql \n",
    "CREATE TABLE\n",
    "ALTER TABLE\n",
    "INSERT 0 1\n",
    "INSERT 0 1\n",
    "INSERT 0 1\n",
    "INSERT 0 6\n",
    "```\n",
    "\n",
    "- 이번에는 조회를 해봅니다. \n",
    "```sql\n",
    "postgres=# SELECT * FROM developers;\n",
    " book_id |    date    |         name         \n",
    "---------+------------+----------------------\n",
    "       1 | 2019-12-17 | \"자바\"\n",
    "       2 | 2019-12-17 | '자바'\n",
    "       3 | 2019-12-17 | Python's Programming\n",
    "       4 | 2019-12-18 | 맛있는 MongoDB\n",
    "       5 | 2019-12-18 | Python\n",
    "       6 | 2019-12-18 | R\n",
    "       7 | 2019-12-19 | Ruby\n",
    "       8 | 2019-12-19 | Go's Programming\n",
    "       9 | 2019-12-19 | Statistics\n",
    "(9 rows)\n",
    "```"
   ]
  },
  {
   "cell_type": "markdown",
   "metadata": {},
   "source": [
    "## 자료 조회 조건\n",
    "- 선택한 자료 조회\n"
   ]
  }
 ],
 "metadata": {
  "kernelspec": {
   "display_name": "Python 3",
   "language": "python",
   "name": "python3"
  },
  "language_info": {
   "codemirror_mode": {
    "name": "ipython",
    "version": 3
   },
   "file_extension": ".py",
   "mimetype": "text/x-python",
   "name": "python",
   "nbconvert_exporter": "python",
   "pygments_lexer": "ipython3",
   "version": "3.8.7"
  }
 },
 "nbformat": 4,
 "nbformat_minor": 4
}
