{
 "cells": [
  {
   "cell_type": "markdown",
   "metadata": {},
   "source": [
    "## psql Shell 명령어\n",
    "\n",
    "| 명령어 | 설명 |\n",
    "| ------ | ------ |\n",
    "| \\q | psql을 종료한다. |\n",
    "| \\l | 데이터베이스를 조회한다. |\n",
    "| \\c | 입력한 DB로 이동한다. |\n",
    "| \\e | 외부편집기로 sql 쿼리 입력 가능 |\n",
    "| \\dt | 현재 DB에서 테이블을 확인할 수 있음.|\n",
    "\n",
    "- 자주 사용하는 명령어이기 때문에 확인한다.\n",
    "\n"
   ]
  },
  {
   "cell_type": "markdown",
   "metadata": {},
   "source": [
    "## DB 및 Table 다루기\n",
    "- 콘솔창에서 book 이름의 DB를 생성한다. \n",
    "\n",
    "```sql\n",
    "evan=# CREATE DATABASE book;\n",
    "CREATE DATABASE\n",
    "```\n",
    "\n",
    "- 그 후, book에 접속한다. \n",
    "```sql\n",
    "evan=# \\c book\n",
    "You are now connected to database \"book\" as user \"evan\".\n",
    "book=#\n",
    "```\n",
    "\n",
    "- 이번에는 DROP DATABASE 구문을 통해 book 삭제한다. \n",
    "```sql\n",
    "evan=# DROP DATABASE book;\n",
    "DROP DATABASE\n",
    "```\n",
    "\n"
   ]
  },
  {
   "cell_type": "markdown",
   "metadata": {},
   "source": [
    "## SCHEMA 생성\n",
    "```sql\n",
    "postgres=# CREATE SCHEMA ann_simmons;\n",
    "CREATE SCHEMA\n",
    "\n",
    "postgres=# CREATE SCHEMA ty_beck;\n",
    "CREATE SCHEMA\n",
    "\n",
    "postgres=# CREATE SCHEMA production;\n",
    "CREATE SCHEMA\n",
    "```"
   ]
  },
  {
   "cell_type": "markdown",
   "metadata": {},
   "source": [
    "## Two Table 생성\n",
    "- 두개의 테이블을 생성한다. \n",
    "```sql\n",
    "CREATE TABLE customers ();\n",
    "CREATE TABLE orders ();\n",
    "```\n",
    "- 커밋을 항상 진행한다. \n",
    "- psql 터미널에서 `\\dt`를 실행하여 출력값이 잘 나오는지 확인한다. \n",
    "```sql\n",
    "postgres=# \\dt\n",
    "         List of relations\n",
    " Schema |   Name    | Type  | Owner \n",
    "--------+-----------+-------+-------\n",
    " public | customers | table | evan\n",
    " public | orders    | table | evan\n",
    "(2 rows)\n",
    "```"
   ]
  },
  {
   "cell_type": "markdown",
   "metadata": {},
   "source": [
    "## Primary Key 생성\n",
    "- 이번에는 Primary Key 생성하는 것을 준비한다. \n",
    "- 이제 이 두개의 Table를 생성하도록 합니다. \n",
    "```sql\n",
    "CREATE TABLE business_type (\n",
    "\tid serial PRIMARY KEY,\n",
    "  \tdescription TEXT NOT NULL\n",
    ");\n",
    "\n",
    "CREATE TABLE applicant (\n",
    "\tid serial PRIMARY KEY,\n",
    "  \tname TEXT NOT NULL,\n",
    "  \tzip_code CHAR(5) NOT NULL,\n",
    "  \tbusiness_type_id INTEGER references business_type(id)\n",
    ");\n",
    "\n",
    "CREATE TABLE users (\n",
    "  id serial PRIMARY KEY,\n",
    "  first_name TEXT NOT NULL,\n",
    "  last_name TEXT NOT NULL,\n",
    "  email TEXT NOT NULL,\n",
    "  hashed_password CHAR(72) NOT NULL\n",
    ");\n",
    "```\n",
    "\n",
    "## schema.table 생성\n",
    "- temp schema를 생성한 후, temp.users table를 작성한다. \n",
    "```sql\n",
    "CREATE TABLE users (\n",
    "  id serial PRIMARY KEY,\n",
    "  first_name TEXT NOT NULL,\n",
    "  last_name TEXT NOT NULL,\n",
    "  email TEXT NOT NULL,\n",
    "  hashed_password CHAR(72) NOT NULL\n",
    ");\n",
    "```"
   ]
  },
  {
   "cell_type": "markdown",
   "metadata": {},
   "source": [
    "## Question\n",
    "- "
   ]
  }
 ],
 "metadata": {
  "kernelspec": {
   "display_name": "Python 3",
   "language": "python",
   "name": "python3"
  },
  "language_info": {
   "codemirror_mode": {
    "name": "ipython",
    "version": 3
   },
   "file_extension": ".py",
   "mimetype": "text/x-python",
   "name": "python",
   "nbconvert_exporter": "python",
   "pygments_lexer": "ipython3",
   "version": "3.8.7"
  }
 },
 "nbformat": 4,
 "nbformat_minor": 4
}
