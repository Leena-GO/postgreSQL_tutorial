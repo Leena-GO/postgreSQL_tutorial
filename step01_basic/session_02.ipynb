{
 "cells": [
  {
   "cell_type": "markdown",
   "metadata": {},
   "source": [
    "## pgAdmin 설치 및 서버 연결 (MacOS)\n",
    "- GUI 프로그램을 설치해본다. \n",
    "- Windows는 자동으로 설치가 되기 때문에 생략을 한다. \n",
    "- 먼저 해당 싸이트에 접속을 합니다. \n",
    "    + URL: https://www.pgadmin.org/download/\n",
    "    \n",
    "![](../img/pgAdmin4/install_01.png)\n",
    "\n",
    "- macOS를 클릭한 뒤 다음 화면에서 `pgAdmin 4 v5.3` 최신버전을 다운로드 받도록 합니다. \n",
    "\n",
    "![](../img/pgAdmin4/install_02.png)\n",
    "\n",
    "- 프로그램을 설치하면 첫 화면에서 Password를 입력하도록 합니다. \n",
    "\n",
    "![](../img/pgAdmin4/install_03.png)\n",
    "\n",
    "- 새로운 서버를 생성하여 서버를 등록하도록 합니다. 그 후에 이름은 LocalTest라고 정합니다. \n",
    "\n",
    "![](../img/pgAdmin4/install_04.png)\n",
    "\n",
    "- 그 후에, username은 postgres를 username으로 입력하고 Postgresql을 설치할 때 설정한 password를 입력합니다. \n",
    "\n",
    "![](../img/pgAdmin4/install_05.png)\n",
    "\n",
    "- 실제 서버에 연결 되었는지 확인하도록 합니다. \n",
    "\n",
    "![](../img/pgAdmin4/install_06.png)"
   ]
  }
 ],
 "metadata": {
  "kernelspec": {
   "display_name": "Python 3",
   "language": "python",
   "name": "python3"
  },
  "language_info": {
   "codemirror_mode": {
    "name": "ipython",
    "version": 3
   },
   "file_extension": ".py",
   "mimetype": "text/x-python",
   "name": "python",
   "nbconvert_exporter": "python",
   "pygments_lexer": "ipython3",
   "version": "3.8.5"
  }
 },
 "nbformat": 4,
 "nbformat_minor": 4
}
