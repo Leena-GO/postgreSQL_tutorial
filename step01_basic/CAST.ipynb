{
 "cells": [
  {
   "cell_type": "markdown",
   "metadata": {},
   "source": [
    "## CAST 연산자\n",
    "- CAST 연산자는 형변환을 할 수 있는 가장 기본적인 방법이다. \n",
    "\n",
    "```SQL\n",
    "CAST (표현식 AS 바꿀 데이터 타입)\n",
    "```"
   ]
  }
 ],
 "metadata": {
  "kernelspec": {
   "display_name": "Python 3",
   "language": "python",
   "name": "python3"
  },
  "language_info": {
   "codemirror_mode": {
    "name": "ipython",
    "version": 3
   },
   "file_extension": ".py",
   "mimetype": "text/x-python",
   "name": "python",
   "nbconvert_exporter": "python",
   "pygments_lexer": "ipython3",
   "version": "3.8.7"
  }
 },
 "nbformat": 4,
 "nbformat_minor": 4
}
