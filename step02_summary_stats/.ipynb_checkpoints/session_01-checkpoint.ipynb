{
 "cells": [
  {
   "cell_type": "markdown",
   "metadata": {},
   "source": [
    "## Window Functions \n",
    "- 테이블에서 행집합을 대상으로 하는 함수\n",
    "- 집합 단위로 계산하기 때문에, 집계 함수와 비슷\n",
    "- 단, 집계 함수는 한 행으로 결괏값을 보여주는 반면, 윈도우 암수는 각 행마다 처리 결과를 출력함\n",
    "- 윈도우 함수를 사용하려면 집약함수 뒤에 OVER를 붙이고 윈도 함수를 지정합니다. \n",
    "\n",
    "```SQL\n",
    "postgres=# SELECT\n",
    "postgres-#   *,\n",
    "postgres-#   -- Assign numbers to each row\n",
    "postgres-#   ROW_NUMBER() OVER() AS Row_N\n",
    "postgres-# FROM Summer_Medals\n",
    "postgres-# ORDER BY Row_N ASC LIMIT 10;\n",
    " year |  city  |  sport   | discipline |       athlete        | country | gen\n",
    "der |           event            | medal  | row_n\n",
    "------+--------+----------+------------+----------------------+---------+----\n",
    "----+----------------------------+--------+-------\n",
    " 1896 | Athens | Aquatics | Swimming   | HAJOS Alfred         | HUN     | Men\n",
    "    | 100M Freestyle             | Gold   |     1\n",
    " 1896 | Athens | Aquatics | Swimming   | HERSCHMANN Otto      | AUT     | Men\n",
    "    | 100M Freestyle             | Silver |     2\n",
    " 1896 | Athens | Aquatics | Swimming   | DRIVAS Dimitrios     | GRE     | Men\n",
    "    | 100M Freestyle For Sailors | Bronze |     3\n",
    " 1896 | Athens | Aquatics | Swimming   | MALOKINIS Ioannis    | GRE     | Men\n",
    "    | 100M Freestyle For Sailors | Gold   |     4\n",
    " 1896 | Athens | Aquatics | Swimming   | CHASAPIS Spiridon    | GRE     | Men\n",
    "    | 100M Freestyle For Sailors | Silver |     5\n",
    " 1896 | Athens | Aquatics | Swimming   | CHOROPHAS Efstathios | GRE     | Men\n",
    "    | 1200M Freestyle            | Bronze |     6\n",
    " 1896 | Athens | Aquatics | Swimming   | HAJOS Alfred         | HUN     | Men\n",
    "    | 1200M Freestyle            | Gold   |     7\n",
    " 1896 | Athens | Aquatics | Swimming   | ANDREOU Joannis      | GRE     | Men\n",
    "    | 1200M Freestyle            | Silver |     8\n",
    " 1896 | Athens | Aquatics | Swimming   | CHOROPHAS Efstathios | GRE     | Men\n",
    "    | 400M Freestyle             | Bronze |     9\n",
    " 1896 | Athens | Aquatics | Swimming   | NEUMANN Paul         | AUT     | Men\n",
    "    | 400M Freestyle             | Gold   |    10\n",
    "(10개 행)\n",
    "\n",
    "```\n",
    "\n",
    "## Subquery\n",
    "- 쿼리문 안에 있는 쿼리를 의미\n",
    "- 첫번째 쿼리문을 '메인 쿼리문'이라 부르며, 소괄호 안에 있는 쿼리문을 '서브쿼리문'이라고 함. \n"
   ]
  }
 ],
 "metadata": {
  "kernelspec": {
   "display_name": "Python 3",
   "language": "python",
   "name": "python3"
  },
  "language_info": {
   "codemirror_mode": {
    "name": "ipython",
    "version": 3
   },
   "file_extension": ".py",
   "mimetype": "text/x-python",
   "name": "python",
   "nbconvert_exporter": "python",
   "pygments_lexer": "ipython3",
   "version": "3.8.5"
  }
 },
 "nbformat": 4,
 "nbformat_minor": 4
}
