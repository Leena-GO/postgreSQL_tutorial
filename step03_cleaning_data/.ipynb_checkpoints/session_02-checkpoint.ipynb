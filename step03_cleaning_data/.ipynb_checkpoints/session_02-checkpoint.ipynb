{
 "cells": [
  {
   "cell_type": "markdown",
   "metadata": {},
   "source": [
    "## Missing, Duplicate, Invalid Data\n",
    "- Use COALESCE() to replace a vehicle_body_type that is NULL with the string value Unknown in the parking_violation table.\n",
    "\n",
    "```SQL\n",
    "UPDATE\n",
    "  parking_violation\n",
    "SET\n",
    "  -- Replace NULL vehicle_body_type values with `Unknown`\n",
    "  vehicle_body_type = COALESCE(vehicle_body_type, 'Unknown');\n",
    "\n",
    "SELECT COUNT(*) FROM parking_violation WHERE vehicle_body_type = 'Unknown';\n",
    "\n",
    " count \n",
    "-------\n",
    "   179\n",
    "(1 row)\n",
    "```\n",
    "\n",
    "- Specify two columns for the query results: issuing_agency and num_missing (the number of missing vehicle body types for the issuing agency).\n",
    "- Restrict the results such that only NULL values for vehicle_body_type are counted.\n",
    "- Group the results by issuing_agency.\n",
    "- Order the results by num_missing in descending order.\n",
    "\n",
    "```SQL\n",
    "SELECT\n",
    "  -- Define the SELECT list: issuing_agency and num_missing\n",
    "  issuing_agency,\n",
    "  COUNT(*) AS num_missing\n",
    "FROM\n",
    "  parking_violation\n",
    "WHERE\n",
    "  -- Restrict the results to NULL vehicle_body_type values\n",
    "  vehicle_body_type IS NULL\n",
    "  -- Group results by issuing_agency\n",
    "GROUP BY\n",
    "  issuing_agency\n",
    "  -- Order results by num_missing in descending order\n",
    "ORDER BY\n",
    "  num_missing DESC;\n",
    "```\n",
    "\n"
   ]
  }
 ],
 "metadata": {
  "kernelspec": {
   "display_name": "Python 3",
   "language": "python",
   "name": "python3"
  },
  "language_info": {
   "codemirror_mode": {
    "name": "ipython",
    "version": 3
   },
   "file_extension": ".py",
   "mimetype": "text/x-python",
   "name": "python",
   "nbconvert_exporter": "python",
   "pygments_lexer": "ipython3",
   "version": "3.8.7"
  }
 },
 "nbformat": 4,
 "nbformat_minor": 4
}
